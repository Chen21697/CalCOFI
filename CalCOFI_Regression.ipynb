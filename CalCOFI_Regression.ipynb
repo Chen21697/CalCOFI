{
 "cells": [
  {
   "cell_type": "markdown",
   "metadata": {},
   "source": [
    "# Regression with model *y = b + w1*x + w2*(x)^2*\n",
    "Try to find a function that can predict the temperature by using salnty."
   ]
  },
  {
   "cell_type": "code",
   "execution_count": 1,
   "metadata": {},
   "outputs": [],
   "source": [
    "import os\n",
    "import numpy as np\n",
    "import pandas as pd\n",
    "import matplotlib.pyplot as plt\n",
    "import random\n",
    "from sympy import diff, symbols, lambdify\n",
    "from sympy.abc import x, y"
   ]
  },
  {
   "cell_type": "code",
   "execution_count": 2,
   "metadata": {},
   "outputs": [
    {
     "name": "stderr",
     "output_type": "stream",
     "text": [
      "/Users/yuwenchen/anaconda3/lib/python3.7/site-packages/IPython/core/interactiveshell.py:3020: DtypeWarning: Columns (47,73) have mixed types. Specify dtype option on import or set low_memory=False.\n",
      "  interactivity=interactivity, compiler=compiler, result=result)\n"
     ]
    }
   ],
   "source": [
    "data = pd.read_csv('/Users/yuwenchen/Desktop/2190_3685_bundle_archive/bottle.csv')\n",
    "data = pd.DataFrame(data)"
   ]
  },
  {
   "cell_type": "code",
   "execution_count": 3,
   "metadata": {},
   "outputs": [
    {
     "data": {
      "text/html": [
       "<div>\n",
       "<style scoped>\n",
       "    .dataframe tbody tr th:only-of-type {\n",
       "        vertical-align: middle;\n",
       "    }\n",
       "\n",
       "    .dataframe tbody tr th {\n",
       "        vertical-align: top;\n",
       "    }\n",
       "\n",
       "    .dataframe thead th {\n",
       "        text-align: right;\n",
       "    }\n",
       "</style>\n",
       "<table border=\"1\" class=\"dataframe\">\n",
       "  <thead>\n",
       "    <tr style=\"text-align: right;\">\n",
       "      <th></th>\n",
       "      <th>Cst_Cnt</th>\n",
       "      <th>Btl_Cnt</th>\n",
       "      <th>Sta_ID</th>\n",
       "      <th>Depth_ID</th>\n",
       "      <th>Depthm</th>\n",
       "      <th>T_degC</th>\n",
       "      <th>Salnty</th>\n",
       "      <th>O2ml_L</th>\n",
       "      <th>STheta</th>\n",
       "      <th>O2Sat</th>\n",
       "      <th>...</th>\n",
       "      <th>R_PHAEO</th>\n",
       "      <th>R_PRES</th>\n",
       "      <th>R_SAMP</th>\n",
       "      <th>DIC1</th>\n",
       "      <th>DIC2</th>\n",
       "      <th>TA1</th>\n",
       "      <th>TA2</th>\n",
       "      <th>pH2</th>\n",
       "      <th>pH1</th>\n",
       "      <th>DIC Quality Comment</th>\n",
       "    </tr>\n",
       "  </thead>\n",
       "  <tbody>\n",
       "    <tr>\n",
       "      <th>0</th>\n",
       "      <td>1</td>\n",
       "      <td>1</td>\n",
       "      <td>054.0 056.0</td>\n",
       "      <td>19-4903CR-HY-060-0930-05400560-0000A-3</td>\n",
       "      <td>0</td>\n",
       "      <td>10.50</td>\n",
       "      <td>33.440</td>\n",
       "      <td>NaN</td>\n",
       "      <td>25.649</td>\n",
       "      <td>NaN</td>\n",
       "      <td>...</td>\n",
       "      <td>NaN</td>\n",
       "      <td>0</td>\n",
       "      <td>NaN</td>\n",
       "      <td>NaN</td>\n",
       "      <td>NaN</td>\n",
       "      <td>NaN</td>\n",
       "      <td>NaN</td>\n",
       "      <td>NaN</td>\n",
       "      <td>NaN</td>\n",
       "      <td>NaN</td>\n",
       "    </tr>\n",
       "    <tr>\n",
       "      <th>1</th>\n",
       "      <td>1</td>\n",
       "      <td>2</td>\n",
       "      <td>054.0 056.0</td>\n",
       "      <td>19-4903CR-HY-060-0930-05400560-0008A-3</td>\n",
       "      <td>8</td>\n",
       "      <td>10.46</td>\n",
       "      <td>33.440</td>\n",
       "      <td>NaN</td>\n",
       "      <td>25.656</td>\n",
       "      <td>NaN</td>\n",
       "      <td>...</td>\n",
       "      <td>NaN</td>\n",
       "      <td>8</td>\n",
       "      <td>NaN</td>\n",
       "      <td>NaN</td>\n",
       "      <td>NaN</td>\n",
       "      <td>NaN</td>\n",
       "      <td>NaN</td>\n",
       "      <td>NaN</td>\n",
       "      <td>NaN</td>\n",
       "      <td>NaN</td>\n",
       "    </tr>\n",
       "    <tr>\n",
       "      <th>2</th>\n",
       "      <td>1</td>\n",
       "      <td>3</td>\n",
       "      <td>054.0 056.0</td>\n",
       "      <td>19-4903CR-HY-060-0930-05400560-0010A-7</td>\n",
       "      <td>10</td>\n",
       "      <td>10.46</td>\n",
       "      <td>33.437</td>\n",
       "      <td>NaN</td>\n",
       "      <td>25.654</td>\n",
       "      <td>NaN</td>\n",
       "      <td>...</td>\n",
       "      <td>NaN</td>\n",
       "      <td>10</td>\n",
       "      <td>NaN</td>\n",
       "      <td>NaN</td>\n",
       "      <td>NaN</td>\n",
       "      <td>NaN</td>\n",
       "      <td>NaN</td>\n",
       "      <td>NaN</td>\n",
       "      <td>NaN</td>\n",
       "      <td>NaN</td>\n",
       "    </tr>\n",
       "    <tr>\n",
       "      <th>3</th>\n",
       "      <td>1</td>\n",
       "      <td>4</td>\n",
       "      <td>054.0 056.0</td>\n",
       "      <td>19-4903CR-HY-060-0930-05400560-0019A-3</td>\n",
       "      <td>19</td>\n",
       "      <td>10.45</td>\n",
       "      <td>33.420</td>\n",
       "      <td>NaN</td>\n",
       "      <td>25.643</td>\n",
       "      <td>NaN</td>\n",
       "      <td>...</td>\n",
       "      <td>NaN</td>\n",
       "      <td>19</td>\n",
       "      <td>NaN</td>\n",
       "      <td>NaN</td>\n",
       "      <td>NaN</td>\n",
       "      <td>NaN</td>\n",
       "      <td>NaN</td>\n",
       "      <td>NaN</td>\n",
       "      <td>NaN</td>\n",
       "      <td>NaN</td>\n",
       "    </tr>\n",
       "    <tr>\n",
       "      <th>4</th>\n",
       "      <td>1</td>\n",
       "      <td>5</td>\n",
       "      <td>054.0 056.0</td>\n",
       "      <td>19-4903CR-HY-060-0930-05400560-0020A-7</td>\n",
       "      <td>20</td>\n",
       "      <td>10.45</td>\n",
       "      <td>33.421</td>\n",
       "      <td>NaN</td>\n",
       "      <td>25.643</td>\n",
       "      <td>NaN</td>\n",
       "      <td>...</td>\n",
       "      <td>NaN</td>\n",
       "      <td>20</td>\n",
       "      <td>NaN</td>\n",
       "      <td>NaN</td>\n",
       "      <td>NaN</td>\n",
       "      <td>NaN</td>\n",
       "      <td>NaN</td>\n",
       "      <td>NaN</td>\n",
       "      <td>NaN</td>\n",
       "      <td>NaN</td>\n",
       "    </tr>\n",
       "  </tbody>\n",
       "</table>\n",
       "<p>5 rows × 74 columns</p>\n",
       "</div>"
      ],
      "text/plain": [
       "   Cst_Cnt  Btl_Cnt       Sta_ID                                Depth_ID  \\\n",
       "0        1        1  054.0 056.0  19-4903CR-HY-060-0930-05400560-0000A-3   \n",
       "1        1        2  054.0 056.0  19-4903CR-HY-060-0930-05400560-0008A-3   \n",
       "2        1        3  054.0 056.0  19-4903CR-HY-060-0930-05400560-0010A-7   \n",
       "3        1        4  054.0 056.0  19-4903CR-HY-060-0930-05400560-0019A-3   \n",
       "4        1        5  054.0 056.0  19-4903CR-HY-060-0930-05400560-0020A-7   \n",
       "\n",
       "   Depthm  T_degC  Salnty  O2ml_L  STheta  O2Sat         ...           \\\n",
       "0       0   10.50  33.440     NaN  25.649    NaN         ...            \n",
       "1       8   10.46  33.440     NaN  25.656    NaN         ...            \n",
       "2      10   10.46  33.437     NaN  25.654    NaN         ...            \n",
       "3      19   10.45  33.420     NaN  25.643    NaN         ...            \n",
       "4      20   10.45  33.421     NaN  25.643    NaN         ...            \n",
       "\n",
       "   R_PHAEO  R_PRES  R_SAMP  DIC1  DIC2  TA1  TA2  pH2  pH1  \\\n",
       "0      NaN       0     NaN   NaN   NaN  NaN  NaN  NaN  NaN   \n",
       "1      NaN       8     NaN   NaN   NaN  NaN  NaN  NaN  NaN   \n",
       "2      NaN      10     NaN   NaN   NaN  NaN  NaN  NaN  NaN   \n",
       "3      NaN      19     NaN   NaN   NaN  NaN  NaN  NaN  NaN   \n",
       "4      NaN      20     NaN   NaN   NaN  NaN  NaN  NaN  NaN   \n",
       "\n",
       "   DIC Quality Comment  \n",
       "0                  NaN  \n",
       "1                  NaN  \n",
       "2                  NaN  \n",
       "3                  NaN  \n",
       "4                  NaN  \n",
       "\n",
       "[5 rows x 74 columns]"
      ]
     },
     "execution_count": 3,
     "metadata": {},
     "output_type": "execute_result"
    }
   ],
   "source": [
    "data.head()"
   ]
  },
  {
   "cell_type": "markdown",
   "metadata": {},
   "source": [
    "# Data Cleaning\n",
    "Simply drop the null value."
   ]
  },
  {
   "cell_type": "code",
   "execution_count": 4,
   "metadata": {},
   "outputs": [],
   "source": [
    "# predict the water temperature based on salinity\n",
    "att = data[['T_degC', 'Salnty']]\n",
    "\n",
    "# remove NAN values\n",
    "att = att.dropna()\n",
    "\n",
    "# reset the index\n",
    "att = att.reset_index(drop=True)"
   ]
  },
  {
   "cell_type": "markdown",
   "metadata": {},
   "source": [
    "# Normalization\n",
    "normalize the data between 0 - 1"
   ]
  },
  {
   "cell_type": "code",
   "execution_count": 5,
   "metadata": {},
   "outputs": [],
   "source": [
    "# Only derive 1000 sample as training data\n",
    "batchSize = 1000"
   ]
  },
  {
   "cell_type": "code",
   "execution_count": 6,
   "metadata": {},
   "outputs": [],
   "source": [
    "def normalization (x):\n",
    "    return (x - min(x)) / (max(x) - min(x))"
   ]
  },
  {
   "cell_type": "code",
   "execution_count": 7,
   "metadata": {},
   "outputs": [],
   "source": [
    "x_data = normalization(att['Salnty'].loc[:batchSize]).tolist()\n",
    "y_data = normalization(att['T_degC'].loc[:batchSize]).tolist()"
   ]
  },
  {
   "cell_type": "code",
   "execution_count": 8,
   "metadata": {},
   "outputs": [
    {
     "data": {
      "image/png": "[encoded data removed]",
      "text/plain": [
       "<Figure size 432x288 with 1 Axes>"
      ]
     },
     "metadata": {
      "needs_background": "light"
     },
     "output_type": "display_data"
    }
   ],
   "source": [
    "# plot the data after normalizing\n",
    "plt.scatter(x_data, y_data, s = 30)\n",
    "plt.xlabel('Salnty')\n",
    "plt.ylabel('Temperature')\n",
    "plt.show()"
   ]
  },
  {
   "cell_type": "markdown",
   "metadata": {},
   "source": [
    "# Traning Phase\n",
    "Use Gradient Descent to train the model *y = b + w1*x + w2*(x)^2*.\n",
    "Adagrad for learning rate."
   ]
  },
  {
   "cell_type": "code",
   "execution_count": 9,
   "metadata": {},
   "outputs": [
    {
     "name": "stdout",
     "output_type": "stream",
     "text": [
      "Step: 0. Loss: 12.287366955590775\n",
      "Step: 1000. Loss: 9.884196145713473\n",
      "Step: 2000. Loss: 9.636658815760578\n",
      "Step: 3000. Loss: 9.514908244518518\n",
      "Step: 4000. Loss: 9.43757435887795\n",
      "Step: 5000. Loss: 9.379419732551805\n",
      "Step: 6000. Loss: 9.330626400893953\n",
      "Step: 7000. Loss: 9.286971567887877\n",
      "Step: 8000. Loss: 9.246516366025553\n",
      "Step: 9000. Loss: 9.20831483455817\n",
      "Step: 10000. Loss: 9.171871448517283\n",
      "Step: 11000. Loss: 9.136902809736704\n",
      "Step: 12000. Loss: 9.10322961710289\n",
      "Step: 13000. Loss: 9.070726361508463\n",
      "Step: 14000. Loss: 9.039297245609962\n",
      "Step: 15000. Loss: 9.00886427462569\n",
      "Step: 16000. Loss: 8.979361114989626\n",
      "Step: 17000. Loss: 8.95072975026927\n",
      "Step: 18000. Loss: 8.92291853230763\n",
      "Step: 19000. Loss: 8.895880953826586\n",
      "Step: 20000. Loss: 8.869574811968002\n",
      "Step: 21000. Loss: 8.843961596478767\n",
      "Step: 22000. Loss: 8.819006016123362\n",
      "Step: 23000. Loss: 8.794675616503849\n",
      "Step: 24000. Loss: 8.77094046255975\n",
      "Step: 25000. Loss: 8.74777286952579\n",
      "Step: 26000. Loss: 8.725147171829805\n",
      "Step: 27000. Loss: 8.703039522663582\n",
      "Step: 28000. Loss: 8.681427718915979\n",
      "Step: 29000. Loss: 8.66029104741054\n",
      "Step: 30000. Loss: 8.639610149240806\n",
      "Step: 31000. Loss: 8.619366899606783\n",
      "Step: 32000. Loss: 8.599544301013363\n",
      "Step: 33000. Loss: 8.580126388046166\n",
      "Step: 34000. Loss: 8.561098142222283\n",
      "Step: 35000. Loss: 8.54244541564204\n",
      "Step: 36000. Loss: 8.524154862355436\n",
      "Step: 37000. Loss: 8.506213876512776\n",
      "Step: 38000. Loss: 8.48861053649877\n",
      "Step: 39000. Loss: 8.471333554358823\n",
      "Step: 40000. Loss: 8.454372229918544\n",
      "Step: 41000. Loss: 8.437716409076275\n",
      "Step: 42000. Loss: 8.421356445814409\n",
      "Step: 43000. Loss: 8.405283167533124\n",
      "Step: 44000. Loss: 8.389487843358816\n",
      "Step: 45000. Loss: 8.373962155121658\n",
      "Step: 46000. Loss: 8.358698170732886\n",
      "Step: 47000. Loss: 8.343688319724478\n",
      "Step: 48000. Loss: 8.32892537074031\n",
      "Step: 49000. Loss: 8.314402410792468\n",
      "Step: 50000. Loss: 8.300112826116637\n",
      "Step: 51000. Loss: 8.286050284478467\n",
      "Step: 52000. Loss: 8.272208718799355\n",
      "Step: 53000. Loss: 8.25858231198325\n",
      "Step: 54000. Loss: 8.245165482838779\n",
      "Step: 55000. Loss: 8.231952873001905\n",
      "Step: 56000. Loss: 8.218939334773422\n",
      "Step: 57000. Loss: 8.206119919794661\n",
      "Step: 58000. Loss: 8.193489868491813\n",
      "Step: 59000. Loss: 8.181044600226237\n",
      "Step: 60000. Loss: 8.168779704093888\n",
      "Step: 61000. Loss: 8.156690930322666\n",
      "Step: 62000. Loss: 8.14477418222059\n",
      "Step: 63000. Loss: 8.133025508632691\n",
      "Step: 64000. Loss: 8.121441096867686\n",
      "Step: 65000. Loss: 8.11001726605953\n",
      "Step: 66000. Loss: 8.098750460931305\n",
      "Step: 67000. Loss: 8.087637245932362\n",
      "Step: 68000. Loss: 8.076674299721681\n",
      "Step: 69000. Loss: 8.065858409972915\n",
      "Step: 70000. Loss: 8.05518646847841\n",
      "Step: 71000. Loss: 8.04465546653163\n",
      "Step: 72000. Loss: 8.034262490568635\n",
      "Step: 73000. Loss: 8.024004718051534\n",
      "Step: 74000. Loss: 8.013879413577271\n",
      "Step: 75000. Loss: 8.003883925197162\n",
      "Step: 76000. Loss: 7.994015680933257\n",
      "Step: 77000. Loss: 7.98427218547909\n",
      "Step: 78000. Loss: 7.974651017072677\n",
      "Step: 79000. Loss: 7.965149824531148\n",
      "Step: 80000. Loss: 7.955766324437006\n",
      "Step: 81000. Loss: 7.946498298466417\n",
      "Step: 82000. Loss: 7.937343590851137\n",
      "Step: 83000. Loss: 7.928300105965808\n",
      "Step: 84000. Loss: 7.919365806033186\n",
      "Step: 85000. Loss: 7.910538708940538\n",
      "Step: 86000. Loss: 7.9018168861604146\n",
      "Step: 87000. Loss: 7.89319846077\n",
      "Step: 88000. Loss: 7.884681605563283\n",
      "Step: 89000. Loss: 7.876264541250792\n",
      "Step: 90000. Loss: 7.867945534742148\n",
      "Step: 91000. Loss: 7.859722897506551\n",
      "Step: 92000. Loss: 7.851594984007219\n",
      "Step: 93000. Loss: 7.843560190205558\n",
      "Step: 94000. Loss: 7.835616952131377\n",
      "Step: 95000. Loss: 7.827763744515616\n",
      "Step: 96000. Loss: 7.819999079482396\n",
      "Step: 97000. Loss: 7.812321505296975\n",
      "Step: 98000. Loss: 7.804729605167115\n",
      "Step: 99000. Loss: 7.797221996094798\n"
     ]
    }
   ],
   "source": [
    "b = 0.6 # initial b\n",
    "w1 = -0.6 # initial w\n",
    "w2 = 0.0\n",
    "lr = 0.001 # learning rate\n",
    "iteration = 100000\n",
    "\n",
    "# store initial vlaues for plotting\n",
    "b_history = []\n",
    "w1_history = []\n",
    "w2_history = []\n",
    "loss_history = []\n",
    "\n",
    "# set the learning rate be different\n",
    "lr_b = 0\n",
    "lr_w1 = 0\n",
    "lr_w2 = 0\n",
    "\n",
    "x, y, w1_d, w2_d, b_d = symbols('x, y, w1_d, w2_d, b_d')\n",
    "# y_data = b + w1*data_x + w2*(data_x^2) \n",
    "lossf = (y - (b_d + w1_d*x + w2_d*(x**2)))**2\n",
    "diff_b = lambdify([x, y, w1_d, w2_d, b_d], diff(lossf, b_d))\n",
    "diff_w1 = lambdify([x, y, w1_d, w2_d, b_d], diff(lossf, w1_d))\n",
    "diff_w2 = lambdify([x, y, w1_d, w2_d, b_d], diff(lossf, w2_d))\n",
    "\n",
    "# interation start, use gradient descent to find the best b and w that can let the output be the least \n",
    "for i in range(iteration):\n",
    "    b_grad = 0.0\n",
    "    w1_grad = 0.0\n",
    "    w2_grad = 0.0\n",
    "    loss = 0.0\n",
    "\n",
    "    for n in range(len(x_data)):\n",
    "        \n",
    "        # compute the loss\n",
    "        loss = loss + (y_data[n] - (b + w1*x_data[n] + w2*(x_data[n]**2)))**2\n",
    "        \n",
    "        # compute ∂L/∂b \n",
    "        b_grad = b_grad + diff_b(x_data[n], y_data[n], w1, w2, b)\n",
    "        \n",
    "        # compute ∂L/∂w1\n",
    "        w1_grad = w1_grad + diff_w1(x_data[n], y_data[n], w1, w2, b)\n",
    "        \n",
    "        # compute ∂L/∂w2\n",
    "        w2_grad = w2_grad + diff_w2(x_data[n], y_data[n], w1, w2, b)\n",
    "    \n",
    "    # use Adagrad for leanring rate\n",
    "    lr_b = lr_b + b_grad ** 2\n",
    "    lr_w1 = lr_w1 + w1_grad ** 2\n",
    "    lr_w2 = lr_w2 + w2_grad ** 2\n",
    "\n",
    "    \n",
    "    b = b - lr/np.sqrt(lr_b) * b_grad\n",
    "    w1 = w1 - lr/np.sqrt(lr_w1) * w1_grad\n",
    "    w2 = w2 - lr/np.sqrt(lr_w2) * w2_grad\n",
    "\n",
    "\n",
    "    # print(b, w1, w2, loss)\n",
    "    if i % 1000 == 0:\n",
    "        print(\"Step: {}. Loss: {}\".format(i, loss))\n",
    "    \n",
    "    # for plotting\n",
    "    loss_history.append(loss)\n",
    "    b_history.append(b)\n",
    "    w1_history.append(w1)\n",
    "    w2_history.append(w2)"
   ]
  },
  {
   "cell_type": "markdown",
   "metadata": {},
   "source": [
    "# Visualiaze the Loss"
   ]
  },
  {
   "cell_type": "code",
   "execution_count": 10,
   "metadata": {},
   "outputs": [
    {
     "data": {
      "text/plain": [
       "(-0.20427382011282563, -0.46344969218881416, 0.5956609147520185)"
      ]
     },
     "execution_count": 10,
     "metadata": {},
     "output_type": "execute_result"
    }
   ],
   "source": [
    "# the final w1, w2 and b I got\n",
    "w1, w2, b"
   ]
  },
  {
   "cell_type": "code",
   "execution_count": 11,
   "metadata": {
    "scrolled": true
   },
   "outputs": [
    {
     "data": {
      "image/png": "[encoded data removed]",
      "text/plain": [
       "<Figure size 432x288 with 1 Axes>"
      ]
     },
     "metadata": {
      "needs_background": "light"
     },
     "output_type": "display_data"
    }
   ],
   "source": [
    "# visualize the loss\n",
    "fig = plt.figure()\n",
    "plt.title(\"Loss\")\n",
    "plt.plot(range(0,iteration), loss_history[0:iteration])    \n",
    "plt.show()"
   ]
  },
  {
   "cell_type": "markdown",
   "metadata": {},
   "source": [
    "# Plot the Result with normalization\n",
    "Green line is the intial function. Red line is the learned function that has the minimum loss I got."
   ]
  },
  {
   "cell_type": "code",
   "execution_count": 12,
   "metadata": {},
   "outputs": [
    {
     "data": {
      "image/png": "[encoded data removed]",
      "text/plain": [
       "<Figure size 432x288 with 1 Axes>"
      ]
     },
     "metadata": {
      "needs_background": "light"
     },
     "output_type": "display_data"
    }
   ],
   "source": [
    "plt.scatter(x_data, y_data, s = 30)\n",
    "plt.xlabel('Salnty')\n",
    "plt.ylabel('Temperature')\n",
    "\n",
    "x_ = np.arange(min(x_data), max(x_data), 0.01)\n",
    "y_ = w1*x_ + w2*((x_)**2) + b\n",
    "\n",
    "# predicted fucntion \n",
    "plt.plot(x_, y_, color = 'red')\n",
    "\n",
    "# initial function\n",
    "nor_y = -0.6*x_ + 0.0*((x_)**2) + 0.6\n",
    "plt.plot(x_, nor_y, color = \"green\")\n",
    "\n",
    "plt.show()"
   ]
  },
  {
   "cell_type": "markdown",
   "metadata": {},
   "source": [
    "# Denomalize *w1*, *w2* and *b*"
   ]
  },
  {
   "cell_type": "code",
   "execution_count": 13,
   "metadata": {},
   "outputs": [],
   "source": [
    "def denomalization(x, y, w1, w2, b):\n",
    "    A = max(y) - min(y)\n",
    "    B = max(x) - min(x)\n",
    "    \n",
    "    den_b = A*b + min(y) + (A*w2*(min(x)**2)/B**2) - (A*w1*min(x))/B\n",
    "    den_w1 = A*((w1/B) - ((w2*2*min(x))/B**2))\n",
    "    den_w2 = A*w2/B**2\n",
    "    return den_w1, den_w2, den_b"
   ]
  },
  {
   "cell_type": "code",
   "execution_count": 14,
   "metadata": {},
   "outputs": [
    {
     "data": {
      "text/plain": [
       "(124.14198427838681, -1.928579495482329, -1984.4674428377627)"
      ]
     },
     "execution_count": 14,
     "metadata": {},
     "output_type": "execute_result"
    }
   ],
   "source": [
    "x_output = att['Salnty'].loc[:batchSize].tolist()\n",
    "y_output = att['T_degC'].loc[:batchSize].tolist()\n",
    "\n",
    "# res_w, res_b = denomalization(x_output, y_output, w, b)\n",
    "res_w1, res_w2, res_b = denomalization(x_output, y_output, w1, w2, b)\n",
    "res_w1, res_w2, res_b"
   ]
  },
  {
   "cell_type": "markdown",
   "metadata": {},
   "source": [
    "# Plot the result\n",
    "Green line is the intial function. Red line is the learned function that has the minimum loss I got."
   ]
  },
  {
   "cell_type": "code",
   "execution_count": 15,
   "metadata": {},
   "outputs": [
    {
     "data": {
      "image/png": "[encoded data removed]",
      "text/plain": [
       "<Figure size 432x288 with 1 Axes>"
      ]
     },
     "metadata": {
      "needs_background": "light"
     },
     "output_type": "display_data"
    }
   ],
   "source": [
    "plt.scatter(x_output, y_output, s = 30)\n",
    "plt.xlabel('Salnty')\n",
    "plt.ylabel('Temperature')\n",
    "\n",
    "x_ = np.arange(min(x_output), max(x_output), 0.1)\n",
    "y_ = res_w1*x_ + res_w2*(x_)**2 + res_b\n",
    "\n",
    "# predicted fucntion \n",
    "plt.plot(x_, y_, color = 'red')\n",
    "\n",
    "# intial function\n",
    "ori_w1, ori_w2, ori_b = denomalization(x_output, y_output, -0.6, 0.0, 1.06)\n",
    "initial_y = ori_b + ori_w1*x_ + ori_w2*(x_**2)\n",
    "plt.plot(x_, initial_y, color = \"green\")\n",
    "\n",
    "plt.show()"
   ]
  }
 ],
 "metadata": {
  "kernelspec": {
   "display_name": "Python 3",
   "language": "python",
   "name": "python3"
  },
  "language_info": {
   "codemirror_mode": {
    "name": "ipython",
    "version": 3
   },
   "file_extension": ".py",
   "mimetype": "text/x-python",
   "name": "python",
   "nbconvert_exporter": "python",
   "pygments_lexer": "ipython3",
   "version": "3.7.1"
  }
 },
 "nbformat": 4,
 "nbformat_minor": 2
}
