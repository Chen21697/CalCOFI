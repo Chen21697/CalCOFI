{
 "cells": [
  {
   "cell_type": "markdown",
   "metadata": {},
   "source": [
    "# Linear Regression *y = wx + b*\n",
    "Try to find a function that can predict the temperature based on salnty."
   ]
  },
  {
   "cell_type": "code",
   "execution_count": 1,
   "metadata": {},
   "outputs": [],
   "source": [
    "import os\n",
    "import numpy as np\n",
    "import pandas as pd\n",
    "import matplotlib.pyplot as plt\n",
    "import random\n",
    "from sympy import diff, symbols, lambdify\n",
    "from sympy.abc import x, y"
   ]
  },
  {
   "cell_type": "code",
   "execution_count": 2,
   "metadata": {},
   "outputs": [
    {
     "name": "stderr",
     "output_type": "stream",
     "text": [
      "/Users/yuwenchen/anaconda3/lib/python3.7/site-packages/IPython/core/interactiveshell.py:3020: DtypeWarning: Columns (47,73) have mixed types. Specify dtype option on import or set low_memory=False.\n",
      "  interactivity=interactivity, compiler=compiler, result=result)\n"
     ]
    }
   ],
   "source": [
    "data = pd.read_csv('/Users/yuwenchen/Desktop/2190_3685_bundle_archive/bottle.csv')\n",
    "data = pd.DataFrame(data)"
   ]
  },
  {
   "cell_type": "code",
   "execution_count": 3,
   "metadata": {},
   "outputs": [
    {
     "data": {
      "text/html": [
       "<div>\n",
       "<style scoped>\n",
       "    .dataframe tbody tr th:only-of-type {\n",
       "        vertical-align: middle;\n",
       "    }\n",
       "\n",
       "    .dataframe tbody tr th {\n",
       "        vertical-align: top;\n",
       "    }\n",
       "\n",
       "    .dataframe thead th {\n",
       "        text-align: right;\n",
       "    }\n",
       "</style>\n",
       "<table border=\"1\" class=\"dataframe\">\n",
       "  <thead>\n",
       "    <tr style=\"text-align: right;\">\n",
       "      <th></th>\n",
       "      <th>Cst_Cnt</th>\n",
       "      <th>Btl_Cnt</th>\n",
       "      <th>Sta_ID</th>\n",
       "      <th>Depth_ID</th>\n",
       "      <th>Depthm</th>\n",
       "      <th>T_degC</th>\n",
       "      <th>Salnty</th>\n",
       "      <th>O2ml_L</th>\n",
       "      <th>STheta</th>\n",
       "      <th>O2Sat</th>\n",
       "      <th>...</th>\n",
       "      <th>R_PHAEO</th>\n",
       "      <th>R_PRES</th>\n",
       "      <th>R_SAMP</th>\n",
       "      <th>DIC1</th>\n",
       "      <th>DIC2</th>\n",
       "      <th>TA1</th>\n",
       "      <th>TA2</th>\n",
       "      <th>pH2</th>\n",
       "      <th>pH1</th>\n",
       "      <th>DIC Quality Comment</th>\n",
       "    </tr>\n",
       "  </thead>\n",
       "  <tbody>\n",
       "    <tr>\n",
       "      <th>0</th>\n",
       "      <td>1</td>\n",
       "      <td>1</td>\n",
       "      <td>054.0 056.0</td>\n",
       "      <td>19-4903CR-HY-060-0930-05400560-0000A-3</td>\n",
       "      <td>0</td>\n",
       "      <td>10.50</td>\n",
       "      <td>33.440</td>\n",
       "      <td>NaN</td>\n",
       "      <td>25.649</td>\n",
       "      <td>NaN</td>\n",
       "      <td>...</td>\n",
       "      <td>NaN</td>\n",
       "      <td>0</td>\n",
       "      <td>NaN</td>\n",
       "      <td>NaN</td>\n",
       "      <td>NaN</td>\n",
       "      <td>NaN</td>\n",
       "      <td>NaN</td>\n",
       "      <td>NaN</td>\n",
       "      <td>NaN</td>\n",
       "      <td>NaN</td>\n",
       "    </tr>\n",
       "    <tr>\n",
       "      <th>1</th>\n",
       "      <td>1</td>\n",
       "      <td>2</td>\n",
       "      <td>054.0 056.0</td>\n",
       "      <td>19-4903CR-HY-060-0930-05400560-0008A-3</td>\n",
       "      <td>8</td>\n",
       "      <td>10.46</td>\n",
       "      <td>33.440</td>\n",
       "      <td>NaN</td>\n",
       "      <td>25.656</td>\n",
       "      <td>NaN</td>\n",
       "      <td>...</td>\n",
       "      <td>NaN</td>\n",
       "      <td>8</td>\n",
       "      <td>NaN</td>\n",
       "      <td>NaN</td>\n",
       "      <td>NaN</td>\n",
       "      <td>NaN</td>\n",
       "      <td>NaN</td>\n",
       "      <td>NaN</td>\n",
       "      <td>NaN</td>\n",
       "      <td>NaN</td>\n",
       "    </tr>\n",
       "    <tr>\n",
       "      <th>2</th>\n",
       "      <td>1</td>\n",
       "      <td>3</td>\n",
       "      <td>054.0 056.0</td>\n",
       "      <td>19-4903CR-HY-060-0930-05400560-0010A-7</td>\n",
       "      <td>10</td>\n",
       "      <td>10.46</td>\n",
       "      <td>33.437</td>\n",
       "      <td>NaN</td>\n",
       "      <td>25.654</td>\n",
       "      <td>NaN</td>\n",
       "      <td>...</td>\n",
       "      <td>NaN</td>\n",
       "      <td>10</td>\n",
       "      <td>NaN</td>\n",
       "      <td>NaN</td>\n",
       "      <td>NaN</td>\n",
       "      <td>NaN</td>\n",
       "      <td>NaN</td>\n",
       "      <td>NaN</td>\n",
       "      <td>NaN</td>\n",
       "      <td>NaN</td>\n",
       "    </tr>\n",
       "    <tr>\n",
       "      <th>3</th>\n",
       "      <td>1</td>\n",
       "      <td>4</td>\n",
       "      <td>054.0 056.0</td>\n",
       "      <td>19-4903CR-HY-060-0930-05400560-0019A-3</td>\n",
       "      <td>19</td>\n",
       "      <td>10.45</td>\n",
       "      <td>33.420</td>\n",
       "      <td>NaN</td>\n",
       "      <td>25.643</td>\n",
       "      <td>NaN</td>\n",
       "      <td>...</td>\n",
       "      <td>NaN</td>\n",
       "      <td>19</td>\n",
       "      <td>NaN</td>\n",
       "      <td>NaN</td>\n",
       "      <td>NaN</td>\n",
       "      <td>NaN</td>\n",
       "      <td>NaN</td>\n",
       "      <td>NaN</td>\n",
       "      <td>NaN</td>\n",
       "      <td>NaN</td>\n",
       "    </tr>\n",
       "    <tr>\n",
       "      <th>4</th>\n",
       "      <td>1</td>\n",
       "      <td>5</td>\n",
       "      <td>054.0 056.0</td>\n",
       "      <td>19-4903CR-HY-060-0930-05400560-0020A-7</td>\n",
       "      <td>20</td>\n",
       "      <td>10.45</td>\n",
       "      <td>33.421</td>\n",
       "      <td>NaN</td>\n",
       "      <td>25.643</td>\n",
       "      <td>NaN</td>\n",
       "      <td>...</td>\n",
       "      <td>NaN</td>\n",
       "      <td>20</td>\n",
       "      <td>NaN</td>\n",
       "      <td>NaN</td>\n",
       "      <td>NaN</td>\n",
       "      <td>NaN</td>\n",
       "      <td>NaN</td>\n",
       "      <td>NaN</td>\n",
       "      <td>NaN</td>\n",
       "      <td>NaN</td>\n",
       "    </tr>\n",
       "  </tbody>\n",
       "</table>\n",
       "<p>5 rows × 74 columns</p>\n",
       "</div>"
      ],
      "text/plain": [
       "   Cst_Cnt  Btl_Cnt       Sta_ID                                Depth_ID  \\\n",
       "0        1        1  054.0 056.0  19-4903CR-HY-060-0930-05400560-0000A-3   \n",
       "1        1        2  054.0 056.0  19-4903CR-HY-060-0930-05400560-0008A-3   \n",
       "2        1        3  054.0 056.0  19-4903CR-HY-060-0930-05400560-0010A-7   \n",
       "3        1        4  054.0 056.0  19-4903CR-HY-060-0930-05400560-0019A-3   \n",
       "4        1        5  054.0 056.0  19-4903CR-HY-060-0930-05400560-0020A-7   \n",
       "\n",
       "   Depthm  T_degC  Salnty  O2ml_L  STheta  O2Sat         ...           \\\n",
       "0       0   10.50  33.440     NaN  25.649    NaN         ...            \n",
       "1       8   10.46  33.440     NaN  25.656    NaN         ...            \n",
       "2      10   10.46  33.437     NaN  25.654    NaN         ...            \n",
       "3      19   10.45  33.420     NaN  25.643    NaN         ...            \n",
       "4      20   10.45  33.421     NaN  25.643    NaN         ...            \n",
       "\n",
       "   R_PHAEO  R_PRES  R_SAMP  DIC1  DIC2  TA1  TA2  pH2  pH1  \\\n",
       "0      NaN       0     NaN   NaN   NaN  NaN  NaN  NaN  NaN   \n",
       "1      NaN       8     NaN   NaN   NaN  NaN  NaN  NaN  NaN   \n",
       "2      NaN      10     NaN   NaN   NaN  NaN  NaN  NaN  NaN   \n",
       "3      NaN      19     NaN   NaN   NaN  NaN  NaN  NaN  NaN   \n",
       "4      NaN      20     NaN   NaN   NaN  NaN  NaN  NaN  NaN   \n",
       "\n",
       "   DIC Quality Comment  \n",
       "0                  NaN  \n",
       "1                  NaN  \n",
       "2                  NaN  \n",
       "3                  NaN  \n",
       "4                  NaN  \n",
       "\n",
       "[5 rows x 74 columns]"
      ]
     },
     "execution_count": 3,
     "metadata": {},
     "output_type": "execute_result"
    }
   ],
   "source": [
    "data.head()"
   ]
  },
  {
   "cell_type": "markdown",
   "metadata": {},
   "source": [
    "# Data Cleaning\n",
    "Simply drop the null value."
   ]
  },
  {
   "cell_type": "code",
   "execution_count": 4,
   "metadata": {},
   "outputs": [],
   "source": [
    "# predict the water temperature based on salinity\n",
    "att = data[['T_degC', 'Salnty']]\n",
    "\n",
    "# remove NAN values\n",
    "att = att.dropna()\n",
    "\n",
    "# reset the index\n",
    "att = att.reset_index(drop=True)"
   ]
  },
  {
   "cell_type": "markdown",
   "metadata": {},
   "source": [
    "# Normalization\n",
    "normalize the data between 0 - 1"
   ]
  },
  {
   "cell_type": "code",
   "execution_count": 5,
   "metadata": {},
   "outputs": [],
   "source": [
    "# Only derive 1000 sample as training data\n",
    "batchSize = 1000"
   ]
  },
  {
   "cell_type": "code",
   "execution_count": 6,
   "metadata": {},
   "outputs": [],
   "source": [
    "# 0-1 normalization\n",
    "def normalization (x):\n",
    "    return (x - min(x)) / (max(x) - min(x))"
   ]
  },
  {
   "cell_type": "code",
   "execution_count": 7,
   "metadata": {},
   "outputs": [],
   "source": [
    "x_data = normalization(att['Salnty'].loc[:batchSize]).tolist()\n",
    "y_data = normalization(att['T_degC'].loc[:batchSize]).tolist()"
   ]
  },
  {
   "cell_type": "code",
   "execution_count": 8,
   "metadata": {
    "scrolled": true
   },
   "outputs": [
    {
     "data": {
      "image/png": "[encoded data removed]",
      "text/plain": [
       "<Figure size 432x288 with 1 Axes>"
      ]
     },
     "metadata": {
      "needs_background": "light"
     },
     "output_type": "display_data"
    }
   ],
   "source": [
    "plt.scatter(x_data, y_data, s = 30)\n",
    "plt.xlabel('Salnty')\n",
    "plt.ylabel('Temperature')\n",
    "plt.show()"
   ]
  },
  {
   "cell_type": "markdown",
   "metadata": {},
   "source": [
    "# Training Phase\n",
    "Use Gradient Descent to train the linear model *y = wx + b*.\n",
    "Use Adagrad for learning rate."
   ]
  },
  {
   "cell_type": "code",
   "execution_count": 9,
   "metadata": {},
   "outputs": [
    {
     "name": "stdout",
     "output_type": "stream",
     "text": [
      "loss: 476.95190177316647\n",
      "loss: 359.2111251740403\n",
      "loss: 316.1434864155504\n",
      "loss: 285.71146756598637\n",
      "loss: 261.7625496750297\n",
      "loss: 241.91901314293202\n",
      "loss: 224.9642052336849\n",
      "loss: 210.17704257997272\n",
      "loss: 197.08879259103549\n",
      "loss: 185.3746399919694\n",
      "loss: 174.79865498495815\n",
      "loss: 165.18316372455948\n",
      "loss: 156.39047449323945\n",
      "loss: 148.3113665402173\n",
      "loss: 140.85751449408946\n",
      "loss: 133.9563197955439\n",
      "loss: 127.54727610405446\n",
      "loss: 121.57934676719054\n",
      "loss: 116.009030085017\n",
      "loss: 110.79890412626037\n",
      "loss: 105.9165134712157\n",
      "loss: 101.33350461159166\n",
      "loss: 97.02494537760677\n",
      "loss: 92.96878271354377\n",
      "loss: 89.1454059395096\n",
      "loss: 85.53729147667424\n",
      "loss: 82.12871121873512\n",
      "loss: 78.90549115935998\n",
      "loss: 75.85481009016966\n",
      "loss: 72.96503053535939\n",
      "loss: 70.22555583573406\n",
      "loss: 67.62670860743734\n",
      "loss: 65.15962679713095\n",
      "loss: 62.81617431952623\n",
      "loss: 60.5888638544427\n",
      "loss: 58.47078984195904\n",
      "loss: 56.455570077229815\n",
      "loss: 54.53729459415267\n",
      "loss: 52.71048075667134\n",
      "loss: 50.97003366090404\n",
      "loss: 49.31121110036125\n",
      "loss: 47.729592467748084\n",
      "loss: 46.221051065945815\n",
      "loss: 44.781729382237714\n",
      "loss: 43.408016947121794\n",
      "loss: 42.09653045492667\n",
      "loss: 40.844095869985736\n",
      "loss: 39.64773228113621\n",
      "loss: 38.5046373000735\n",
      "loss: 37.412173826759584\n",
      "loss: 36.36785802853264\n",
      "loss: 35.36934839948072\n",
      "loss: 34.41443578365812\n",
      "loss: 33.50103426025666\n",
      "loss: 32.627172801360736\n",
      "loss: 31.79098762365341\n",
      "loss: 30.990715164761\n",
      "loss: 30.224685622939003\n",
      "loss: 29.49131700583679\n",
      "loss: 28.789109640124224\n",
      "loss: 28.116641099105575\n",
      "loss: 27.472561510081484\n",
      "loss: 26.855589207299776\n",
      "loss: 26.264506699927573\n",
      "loss: 25.698156927615617\n",
      "loss: 25.155439779034285\n",
      "loss: 24.635308851209743\n",
      "loss: 24.136768429681645\n",
      "loss: 23.65887067143461\n",
      "loss: 23.200712974294042\n",
      "loss: 22.76143551800045\n",
      "loss: 22.34021896355871\n",
      "loss: 21.936282298677817\n",
      "loss: 21.548880818230256\n",
      "loss: 21.177304229620013\n",
      "loss: 20.820874873866885\n",
      "loss: 20.478946053982195\n",
      "loss: 20.150900462949057\n",
      "loss: 19.836148704258957\n",
      "loss: 19.53412789854367\n",
      "loss: 19.244300370372592\n",
      "loss: 18.966152409764742\n",
      "loss: 18.699193103403005\n",
      "loss: 18.44295323092659\n",
      "loss: 18.19698422204542\n",
      "loss: 17.96085717054663\n",
      "loss: 17.734161901552998\n",
      "loss: 17.51650608867806\n",
      "loss: 17.307514417966505\n",
      "loss: 17.106827795731245\n",
      "loss: 16.914102597616992\n",
      "loss: 16.729009956401494\n",
      "loss: 16.551235086227468\n",
      "loss: 16.380476641120058\n",
      "loss: 16.21644610578452\n",
      "loss: 16.058867216825888\n",
      "loss: 15.907475412649536\n",
      "loss: 15.762017310423424\n",
      "loss: 15.6222502085847\n",
      "loss: 15.487941613473499\n"
     ]
    }
   ],
   "source": [
    "b = 1.0 # initial b\n",
    "w = 0.0 # initial w\n",
    "lr = 0.001 # learning rate\n",
    "iteration = 100000\n",
    "\n",
    "# store initial vlaues for plotting\n",
    "b_history = []\n",
    "w_history = []\n",
    "loss_history = []\n",
    "\n",
    "# set the learning rate be different\n",
    "lr_b = 0\n",
    "lr_w = 0\n",
    "\n",
    "x, y, w1, b1 = symbols('x, y, w1, b1')\n",
    "lossf = (y - (b1 + w1*x))**2\n",
    "diff_b = lambdify([x, y, w1, b1], diff(lossf, b1))\n",
    "diff_w = lambdify([x, y, w1, b1], diff(lossf, w1))\n",
    "\n",
    "# interation start, use gradient descent to find the best b and w that can let the output be the least \n",
    "for i in range(iteration):\n",
    "    b_grad = 0.0\n",
    "    w_grad = 0.0\n",
    "    loss = 0.0\n",
    "\n",
    "    for n in range(len(x_data)):\n",
    "        \n",
    "        # compute the loss\n",
    "        loss = loss + (y_data[n] - (b + w*x_data[n]))**2\n",
    "        \n",
    "        # compute ∂L/∂w \n",
    "        b_grad = b_grad + diff_b(x_data[n], y_data[n], w, b)\n",
    "        \n",
    "        # compute ∂L/∂b\n",
    "        w_grad = w_grad + diff_w(x_data[n], y_data[n], w, b)\n",
    "    \n",
    "    # use Adagrad for leanring rate\n",
    "    lr_b = lr_b + b_grad ** 2\n",
    "    lr_w = lr_w + w_grad ** 2\n",
    "    \n",
    "    b = b - lr/np.sqrt(lr_b) * b_grad\n",
    "    w = w - lr/np.sqrt(lr_w) * w_grad\n",
    "    \n",
    "    if i % 1000 == 0:\n",
    "        print(\"loss:\", loss)\n",
    "    # print(b, w, loss)\n",
    "    \n",
    "    # for plotting\n",
    "    loss_history.append(loss)\n",
    "    b_history.append(b)\n",
    "    w_history.append(w)"
   ]
  },
  {
   "cell_type": "code",
   "execution_count": 10,
   "metadata": {},
   "outputs": [
    {
     "data": {
      "image/png": "[encoded data removed]",
      "text/plain": [
       "<Figure size 432x288 with 1 Axes>"
      ]
     },
     "metadata": {
      "needs_background": "light"
     },
     "output_type": "display_data"
    }
   ],
   "source": [
    "plt.plot(b_history, w_history, 'o-', color = 'red')\n",
    "plt.xlabel('b')\n",
    "plt.ylabel('w')\n",
    "plt.show()"
   ]
  },
  {
   "cell_type": "markdown",
   "metadata": {},
   "source": [
    "# Visualize the Loss"
   ]
  },
  {
   "cell_type": "code",
   "execution_count": 11,
   "metadata": {
    "scrolled": true
   },
   "outputs": [
    {
     "data": {
      "image/png": "[encoded data removed]",
      "text/plain": [
       "<Figure size 432x288 with 1 Axes>"
      ]
     },
     "metadata": {
      "needs_background": "light"
     },
     "output_type": "display_data"
    }
   ],
   "source": [
    "# visualize the loss\n",
    "fig = plt.figure()\n",
    "plt.title(\"Loss\")\n",
    "plt.plot(range(0,iteration), loss_history[0:iteration])    \n",
    "plt.show()"
   ]
  },
  {
   "cell_type": "markdown",
   "metadata": {},
   "source": [
    "# Plot the Result with normalization\n",
    "Green line is the intial function. Red line is the learned function that has the minimum loss I got."
   ]
  },
  {
   "cell_type": "code",
   "execution_count": 12,
   "metadata": {},
   "outputs": [
    {
     "data": {
      "image/png": "[encoded data removed]",
      "text/plain": [
       "<Figure size 432x288 with 1 Axes>"
      ]
     },
     "metadata": {
      "needs_background": "light"
     },
     "output_type": "display_data"
    }
   ],
   "source": [
    "plt.scatter(x_data, y_data, s = 30)\n",
    "plt.xlabel('Salnty')\n",
    "plt.ylabel('Temperature')\n",
    "\n",
    "x_ = np.arange(min(x_data), max(x_data), 0.01)\n",
    "y_ = w*x_ + b\n",
    "\n",
    "# predicted fucntion \n",
    "plt.plot(x_, y_, color = 'red')\n",
    "\n",
    "# initial function\n",
    "nor_y = 0*x_ + 1\n",
    "plt.plot(x_, nor_y, color = \"green\")\n",
    "\n",
    "plt.show()"
   ]
  },
  {
   "cell_type": "markdown",
   "metadata": {},
   "source": [
    "# Denomalize *w* and *b*"
   ]
  },
  {
   "cell_type": "code",
   "execution_count": 13,
   "metadata": {},
   "outputs": [],
   "source": [
    "def denomalization(x, y, w, b):\n",
    "    A = max(y)-min(y)\n",
    "    B = max(x)-min(x)\n",
    "    den_w = (w*A)/B\n",
    "    den_b = -1*((A*w*min(x))/B)+(A*b) + min(y)\n",
    "    return den_w, den_b"
   ]
  },
  {
   "cell_type": "code",
   "execution_count": 14,
   "metadata": {},
   "outputs": [
    {
     "data": {
      "text/plain": [
       "(-3.510566789403081, 127.49876486738097)"
      ]
     },
     "execution_count": 14,
     "metadata": {},
     "output_type": "execute_result"
    }
   ],
   "source": [
    "x_output = att['Salnty'].loc[:batchSize].tolist()\n",
    "y_output = att['T_degC'].loc[:batchSize].tolist()\n",
    "\n",
    "res_w, res_b = denomalization(x_output, y_output, w, b)\n",
    "res_w, res_b"
   ]
  },
  {
   "cell_type": "markdown",
   "metadata": {},
   "source": [
    "# Plot the Result\n",
    "Green line is the intial function.\n",
    "Red line is the learned function that has the minimum loss I got."
   ]
  },
  {
   "cell_type": "code",
   "execution_count": 15,
   "metadata": {},
   "outputs": [
    {
     "data": {
      "image/png": "[encoded data removed]",
      "text/plain": [
       "<Figure size 432x288 with 1 Axes>"
      ]
     },
     "metadata": {
      "needs_background": "light"
     },
     "output_type": "display_data"
    }
   ],
   "source": [
    "plt.scatter(x_output, y_output, s = 30)\n",
    "plt.xlabel('Salnty')\n",
    "plt.ylabel('Temperature')\n",
    "\n",
    "x_ = np.arange(min(x_output), max(x_output), 0.01)\n",
    "y_ = res_w*x_ + res_b\n",
    "\n",
    "# predicted fucntion \n",
    "plt.plot(x_, y_, color = 'red')\n",
    "\n",
    "# intial function\n",
    "ori_w, ori_b = denomalization(x_output, y_output, 0.0, 1.0)\n",
    "initial_y = ori_w*x_ + ori_b\n",
    "plt.plot(x_, initial_y, color = \"green\")\n",
    "plt.show()"
   ]
  }
 ],
 "metadata": {
  "kernelspec": {
   "display_name": "Python 3",
   "language": "python",
   "name": "python3"
  },
  "language_info": {
   "codemirror_mode": {
    "name": "ipython",
    "version": 3
   },
   "file_extension": ".py",
   "mimetype": "text/x-python",
   "name": "python",
   "nbconvert_exporter": "python",
   "pygments_lexer": "ipython3",
   "version": "3.7.1"
  }
 },
 "nbformat": 4,
 "nbformat_minor": 2
}
